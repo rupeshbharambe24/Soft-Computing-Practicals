{
 "cells": [
  {
   "cell_type": "code",
   "execution_count": 2,
   "id": "a3d465d1-a08d-4b56-bfd6-4ef27ed5be7e",
   "metadata": {},
   "outputs": [],
   "source": [
    "# Rupesh Nitin Bharambe (AI3007)"
   ]
  },
  {
   "cell_type": "code",
   "execution_count": 11,
   "id": "023c03c9-d9c0-479a-a0ba-3048acbf7e6e",
   "metadata": {},
   "outputs": [
    {
     "name": "stdout",
     "output_type": "stream",
     "text": [
      "Binary Cross-Entropy Loss: 0.20273661557656092\n"
     ]
    }
   ],
   "source": [
    "import numpy as np\n",
    "\n",
    "def binary_cross_entropy(y_true, y_pred):\n",
    "    '''\n",
    "Compute the binary cross-entropy loss.\n",
    "Parameters:\n",
    "y_true -- array-like of true binary labels (0 or 1)\n",
    "y_pred -- array-like of predicted probabilities (between 0 and 1)\n",
    "\n",
    "Returns:\n",
    "loss -- binary cross-entropy loss\n",
    "'''\n",
    "# Convert inputs to numpy arrays if they are not already\n",
    "    y_true = np.asarray(y_true)\n",
    "    y_pred = np.asarray(y_pred)\n",
    "\n",
    "# Clip predictions to avoid log(0) which is undefined\n",
    "    y_pred = np.clip(y_pred, 1e-15, 1 - 1e-15)\n",
    "\n",
    "# Compute binary cross-entropy\n",
    "    loss = -np.mean(y_true * np.log(y_pred) + (1 - y_true) * np.log(1 - y_pred))\n",
    "\n",
    "    return loss\n",
    "\n",
    "# Example usage\n",
    "if __name__ == '__main__':\n",
    "# True binary labels\n",
    "    y_true = np.array([1, 0, 1, 1, 0])\n",
    "\n",
    "# Predicted probabilities\n",
    "y_pred = np.array([0.9, 0.1, 0.8, 0.7, 0.2])\n",
    "\n",
    "# Calculate the binary cross-entropy loss\n",
    "loss = binary_cross_entropy(y_true, y_pred)\n",
    "print('Binary Cross-Entropy Loss:', loss)"
   ]
  },
  {
   "cell_type": "code",
   "execution_count": 17,
   "id": "3d0d12df-e721-4805-97ac-6efdd995ac8e",
   "metadata": {},
   "outputs": [
    {
     "name": "stdout",
     "output_type": "stream",
     "text": [
      "Multiclass Cross-Entropy Loss: 0.2529995012327421\n"
     ]
    }
   ],
   "source": [
    "import numpy as np\n",
    "\n",
    "def multiclass_cross_entropy(y_true, y_pred):\n",
    "    '''\n",
    "Compute the multiclass cross-entropy loss.\n",
    "\n",
    "Parameters:\n",
    "y_true -- array-like of true class indices (0, 1, ..., C-1)\n",
    "y_pred -- array-like of predicted probabilities for each class (shape:\n",
    "[N, C])\n",
    "\n",
    "Returns:\n",
    "loss -- multiclass cross-entropy loss\n",
    "'''\n",
    "# Convert inputs to numpy arrays if they are not already\n",
    "    y_true = np.asarray(y_true)\n",
    "    y_pred = np.asarray(y_pred)\n",
    "    \n",
    "    # Number of classes\n",
    "    num_classes = y_pred.shape[1]\n",
    "    \n",
    "    # Clip predictions to avoid log(0) which is undefined\n",
    "    y_pred = np.clip(y_pred, 1e-15, 1 - 1e-15)\n",
    "    \n",
    "    # Convert true labels to one-hot encoding\n",
    "    y_true_one_hot = np.eye(num_classes)[y_true]\n",
    "    \n",
    "    # Compute multiclass cross-entropy\n",
    "    loss = -np.mean(np.sum(y_true_one_hot * np.log(y_pred), axis=1))\n",
    "    \n",
    "    return loss\n",
    "\n",
    "# Example usage\n",
    "if __name__ == '__main__':\n",
    "# True class indices\n",
    "    y_true = np.array([0, 1, 2, 1, 0])\n",
    "\n",
    "# Predicted probabilities (shape: [5, 3] for 3 classes)\n",
    "    y_pred = np.array([\n",
    "    [0.8, 0.1, 0.1],\n",
    "    [0.2, 0.7, 0.1],\n",
    "    [0.1, 0.2, 0.7],\n",
    "    [0.1, 0.8, 0.1],\n",
    "    [0.9, 0.05, 0.05]\n",
    "    ])\n",
    "    \n",
    "    # Calculate the multiclass cross-entropy loss\n",
    "    loss = multiclass_cross_entropy(y_true, y_pred)\n",
    "    print('Multiclass Cross-Entropy Loss:', loss)"
   ]
  },
  {
   "cell_type": "code",
   "execution_count": null,
   "id": "f79947e1-17fb-455d-b5b7-db0e55900253",
   "metadata": {},
   "outputs": [],
   "source": []
  }
 ],
 "metadata": {
  "kernelspec": {
   "display_name": "Python 3 (ipykernel)",
   "language": "python",
   "name": "python3"
  },
  "language_info": {
   "codemirror_mode": {
    "name": "ipython",
    "version": 3
   },
   "file_extension": ".py",
   "mimetype": "text/x-python",
   "name": "python",
   "nbconvert_exporter": "python",
   "pygments_lexer": "ipython3",
   "version": "3.11.9"
  }
 },
 "nbformat": 4,
 "nbformat_minor": 5
}
