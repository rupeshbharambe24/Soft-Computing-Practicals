{
 "cells": [
  {
   "cell_type": "code",
   "execution_count": 2,
   "id": "67e1ac75-8c49-47bf-bc2c-c0f837a04c90",
   "metadata": {},
   "outputs": [],
   "source": [
    "# Rupesh Nitin Bharambe (AI3007)"
   ]
  },
  {
   "cell_type": "code",
   "execution_count": 7,
   "id": "bdb94cfd-4596-4a47-b344-7c3429f9f7b6",
   "metadata": {},
   "outputs": [
    {
     "name": "stdout",
     "output_type": "stream",
     "text": [
      "Epoch 0, Loss: 0.25000070118463286\n",
      "Epoch 100, Loss: 0.25000010625756497\n",
      "Epoch 200, Loss: 0.2500000160997592\n",
      "Epoch 300, Loss: 0.2500000024369042\n",
      "Epoch 400, Loss: 0.250000000366384\n",
      "Epoch 500, Loss: 0.25000000005260953\n",
      "Epoch 600, Loss: 0.25000000000505895\n",
      "Epoch 700, Loss: 0.24999999999785294\n",
      "Epoch 800, Loss: 0.24999999999676095\n",
      "Epoch 900, Loss: 0.24999999999659545\n",
      "Predictions after training:\n",
      "[[0.49999856]\n",
      " [0.50000061]\n",
      " [0.49999952]\n",
      " [0.50000157]]\n"
     ]
    }
   ],
   "source": [
    "import numpy as np\n",
    "\n",
    "class MLP:\n",
    "    def __init__(self, input_size, hidden_size, output_size, learning_rate=0.01):\n",
    "        # Initialize weights and biases\n",
    "        self.W1 = np.random.rand(input_size, hidden_size) * 0.01 # Weights for input to hidden\n",
    "        self.b1 = np.zeros((1, hidden_size)) # Biases for hidden layer\n",
    "        self.W2 = np.random.rand(hidden_size, output_size) * 0.01 # Weights for hidden to output\n",
    "        self.b2 = np.zeros((1, output_size)) # Biases for output layer\n",
    "        self.learning_rate = learning_rate\n",
    "    \n",
    "    def sigmoid(self, z):\n",
    "        return 1 / (1 + np.exp(-z))\n",
    "    \n",
    "    def sigmoid_derivative(self, z):\n",
    "        return z * (1 - z)\n",
    "        \n",
    "    def forward(self, X):\n",
    "        # Forward pass\n",
    "        self.z1 = np.dot(X, self.W1) + self.b1\n",
    "        self.a1 = self.sigmoid(self.z1)\n",
    "        self.z2 = np.dot(self.a1, self.W2) + self.b2\n",
    "        self.a2 = self.sigmoid(self.z2)\n",
    "        return self.a2\n",
    "    \n",
    "    def backward(self, X, y):\n",
    "        # Backward pass\n",
    "        m = X.shape[0]\n",
    "        output_error = self.a2 - y\n",
    "        output_delta = output_error * self.sigmoid_derivative(self.a2)\n",
    "        \n",
    "        hidden_error = output_delta.dot(self.W2.T)\n",
    "        hidden_delta = hidden_error * self.sigmoid_derivative(self.a1)\n",
    "        \n",
    "        # Update weights and biases\n",
    "        self.W2 -= self.a1.T.dot(output_delta) * self.learning_rate / m\n",
    "        self.b2 -= np.sum(output_delta, axis=0, keepdims=True) * self.learning_rate / m\n",
    "        self.W1 -= X.T.dot(hidden_delta) * self.learning_rate / m\n",
    "        self.b1 -= np.sum(hidden_delta, axis=0, keepdims=True) * self.learning_rate / m\n",
    "    \n",
    "    def train(self, X, y, epochs=1000):\n",
    "        for epoch in range(epochs):\n",
    "            self.forward(X)\n",
    "            self.backward(X, y)\n",
    "            if epoch % 100 == 0:\n",
    "                loss = np.mean(np.square(y - self.a2))\n",
    "                print(f'Epoch {epoch}, Loss: {loss}')\n",
    "                \n",
    "    def predict(self, X):\n",
    "        return self.forward(X)\n",
    "\n",
    "# Example Usage\n",
    "\n",
    "if __name__ == '__main__':\n",
    "    # Sample dataset: XOR problem\n",
    "    X = np.array([[0, 0],\n",
    "                  [0, 1],\n",
    "                  [1, 0],\n",
    "                  [1, 1]])\n",
    "    y = np.array([[0], [1], [1], [0]])\n",
    "    \n",
    "    # Create MLP\n",
    "    mlp = MLP(input_size=2, hidden_size=2, output_size=1, learning_rate=0.1)\n",
    "    # Train MLP\n",
    "    mlp.train(X, y, epochs=1000)\n",
    "    # Predictions\n",
    "    print('Predictions after training:')\n",
    "    print(mlp.predict(X))"
   ]
  },
  {
   "cell_type": "code",
   "execution_count": null,
   "id": "c7e2bf3d-4608-4606-881b-e44efd2c75ee",
   "metadata": {},
   "outputs": [],
   "source": []
  }
 ],
 "metadata": {
  "kernelspec": {
   "display_name": "Python 3 (ipykernel)",
   "language": "python",
   "name": "python3"
  },
  "language_info": {
   "codemirror_mode": {
    "name": "ipython",
    "version": 3
   },
   "file_extension": ".py",
   "mimetype": "text/x-python",
   "name": "python",
   "nbconvert_exporter": "python",
   "pygments_lexer": "ipython3",
   "version": "3.11.9"
  }
 },
 "nbformat": 4,
 "nbformat_minor": 5
}
