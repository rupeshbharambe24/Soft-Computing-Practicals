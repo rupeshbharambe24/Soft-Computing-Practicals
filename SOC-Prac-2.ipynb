{
 "cells": [
  {
   "cell_type": "code",
   "execution_count": 3,
   "id": "107abd46-49fb-41f9-ae61-33e532eefde9",
   "metadata": {},
   "outputs": [],
   "source": [
    "# Rupesh Nitin Bharambe (AI3007)"
   ]
  },
  {
   "cell_type": "code",
   "execution_count": 12,
   "id": "6eca1357-0c9c-4943-839b-a2d6b56cc99a",
   "metadata": {},
   "outputs": [
    {
     "name": "stdout",
     "output_type": "stream",
     "text": [
      "0\n",
      "0\n",
      "0\n",
      "1\n"
     ]
    }
   ],
   "source": [
    "def AND(a1, a2):\n",
    "    b1, b2, theta = 0.5, 0.5, 0.7\n",
    "    weighted_sum = a1*b1 + a2*b2\n",
    "    if weighted_sum <= theta:\n",
    "        return 0\n",
    "        print(\"Neuron will not fire\")\n",
    "    elif weighted_sum > theta:\n",
    "        return 1\n",
    "        print(\"Condition true : Neuron will fire\")\n",
    "\n",
    "print(AND(0,0))\n",
    "print(AND(0,1))\n",
    "print(AND(1,0))\n",
    "print(AND(1,1))"
   ]
  },
  {
   "cell_type": "code",
   "execution_count": null,
   "id": "030b5cd9-9c20-4a3f-8c04-729ff410fd6d",
   "metadata": {},
   "outputs": [],
   "source": []
  }
 ],
 "metadata": {
  "kernelspec": {
   "display_name": "Python 3 (ipykernel)",
   "language": "python",
   "name": "python3"
  },
  "language_info": {
   "codemirror_mode": {
    "name": "ipython",
    "version": 3
   },
   "file_extension": ".py",
   "mimetype": "text/x-python",
   "name": "python",
   "nbconvert_exporter": "python",
   "pygments_lexer": "ipython3",
   "version": "3.11.9"
  }
 },
 "nbformat": 4,
 "nbformat_minor": 5
}
