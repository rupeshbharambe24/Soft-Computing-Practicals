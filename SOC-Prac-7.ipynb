{
 "cells": [
  {
   "cell_type": "code",
   "execution_count": 2,
   "id": "b6738ea2-4a31-4d78-8a5c-ff568b05467e",
   "metadata": {},
   "outputs": [],
   "source": [
    "# Rupesh Nitin Bharambe (AI3007)"
   ]
  },
  {
   "cell_type": "code",
   "execution_count": 9,
   "id": "979b2cff-dfb5-4a87-bf43-936138174576",
   "metadata": {},
   "outputs": [
    {
     "name": "stdout",
     "output_type": "stream",
     "text": [
      "Output of the neural network: [0.80967621 0.64272801]\n"
     ]
    }
   ],
   "source": [
    "import numpy as np\n",
    "\n",
    "class SimpleNeuralNetwork:\n",
    "    def __init__(self, input_size, output_size):\n",
    "        # Initialize weights and biases\n",
    "        self.weights = np.random.rand(input_size, output_size)\n",
    "        self.biases = np.random.rand(output_size)\n",
    "    \n",
    "    def sigmoid(self, x):\n",
    "        # Sigmoid activation function\n",
    "        return 1 / (1 + np.exp(-x))\n",
    "    \n",
    "    def forward_propagation(self, inputs):\n",
    "        # Calculate the weighted sum + bias\n",
    "        z = np.dot(inputs, self.weights) + self.biases\n",
    "        # Apply activation function\n",
    "        output = self.sigmoid(z)\n",
    "        return output\n",
    "\n",
    "# Example usage\n",
    "if __name__ == '__main__':\n",
    "    # Create a neural network with 3 input features and 2 output neurons\n",
    "    nn = SimpleNeuralNetwork(input_size=3, output_size=2)\n",
    "    \n",
    "    # Sample input (e.g., features from one data point)\n",
    "    sample_input = np.array([0.5, 0.2, 0.1])\n",
    "    \n",
    "    # Perform forward propagation\n",
    "    output = nn.forward_propagation(sample_input)\n",
    "    \n",
    "    print('Output of the neural network:', output)"
   ]
  },
  {
   "cell_type": "code",
   "execution_count": null,
   "id": "cb41a99b-ad55-4649-91e4-e3be5577f63e",
   "metadata": {},
   "outputs": [],
   "source": []
  }
 ],
 "metadata": {
  "kernelspec": {
   "display_name": "Python 3 (ipykernel)",
   "language": "python",
   "name": "python3"
  },
  "language_info": {
   "codemirror_mode": {
    "name": "ipython",
    "version": 3
   },
   "file_extension": ".py",
   "mimetype": "text/x-python",
   "name": "python",
   "nbconvert_exporter": "python",
   "pygments_lexer": "ipython3",
   "version": "3.11.9"
  }
 },
 "nbformat": 4,
 "nbformat_minor": 5
}
