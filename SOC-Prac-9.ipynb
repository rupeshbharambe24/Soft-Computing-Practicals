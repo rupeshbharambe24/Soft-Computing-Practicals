{
 "cells": [
  {
   "cell_type": "code",
   "execution_count": 2,
   "id": "7a702815-8b2e-4f0a-8ec1-779afb1b3afb",
   "metadata": {},
   "outputs": [],
   "source": [
    "# Rupesh Nitin Bharambe (AI3007)"
   ]
  },
  {
   "cell_type": "code",
   "execution_count": 14,
   "id": "b6d7637f-f482-49c3-b06f-04e43a46361b",
   "metadata": {},
   "outputs": [
    {
     "name": "stdout",
     "output_type": "stream",
     "text": [
      "Epoch 0, Loss: 0.27005064774935\n",
      "Epoch 100, Loss: 0.2500041113983357\n",
      "Epoch 200, Loss: 0.2500007243928576\n",
      "Epoch 300, Loss: 0.24999903800355622\n",
      "Epoch 400, Loss: 0.2499973647854889\n",
      "Epoch 500, Loss: 0.24999568903321256\n",
      "Epoch 600, Loss: 0.24999399480609974\n",
      "Epoch 700, Loss: 0.24999226558688903\n",
      "Epoch 800, Loss: 0.2499904840410946\n",
      "Epoch 900, Loss: 0.24998863175018926\n",
      "\n",
      "Final output after training:\n",
      "[[0.49717337]\n",
      " [0.49760116]\n",
      " [0.50251418]\n",
      " [0.50286048]]\n"
     ]
    }
   ],
   "source": [
    "import numpy as np\n",
    "def sigmoid(x):\n",
    "    return 1 / (1 + np.exp(-x))\n",
    "def sigmoid_derivative(x):\n",
    "    return x * (1 - x)\n",
    "class NeuralNetwork:\n",
    "    def __init__(self, input_size, hidden_size, output_size):\n",
    "        self.weights_input_hidden = np.random.rand(input_size, hidden_size)\n",
    "        self.weights_hidden_output = np.random.rand(hidden_size, output_size)\n",
    "        self.bias_hidden = np.random.rand(1, hidden_size)\n",
    "        self.bias_output = np.random.rand(1, output_size)\n",
    "    def forward(self, X):\n",
    "        self.hidden_input = np.dot(X, self.weights_input_hidden) + self.bias_hidden\n",
    "        self.hidden_output = sigmoid(self.hidden_input)\n",
    "        self.output_input = np.dot(self.hidden_output, self.weights_hidden_output) + self.bias_output\n",
    "        self.output = sigmoid(self.output_input)\n",
    "        return self.output\n",
    "    def backward(self, X, y, output, learning_rate):\n",
    "        error = y - output\n",
    "        output_delta = error * sigmoid_derivative(output)\n",
    "        hidden_error = output_delta.dot(self.weights_hidden_output.T)\n",
    "        hidden_delta = hidden_error * sigmoid_derivative(self.hidden_output)\n",
    "        self.weights_hidden_output += self.hidden_output.T.dot(output_delta) * learning_rate\n",
    "        self.weights_input_hidden += X.T.dot(hidden_delta) * learning_rate\n",
    "        self.bias_hidden += np.sum(hidden_delta, axis=0, keepdims=True) * learning_rate\n",
    "        self.bias_output += np.sum(output_delta, axis=0, keepdims=True) * learning_rate\n",
    "    def train(self, X, y, epochs, learning_rate):\n",
    "        for epoch in range(epochs):\n",
    "            output = self.forward(X)\n",
    "            self.backward(X, y, output, learning_rate)\n",
    "            if epoch % 100 == 0:\n",
    "                loss = np.mean(np.square(y - output))\n",
    "                print(f\"Epoch {epoch}, Loss: {loss}\")\n",
    "X = np.array([[0, 0], [0, 1], [1, 0], [1, 1]])\n",
    "y = np.array([[0], [1], [1], [0]])\n",
    "nn = NeuralNetwork(input_size=2, hidden_size=2, output_size=1)\n",
    "nn.train(X, y, epochs=1000, learning_rate=0.1)\n",
    "output = nn.forward(X)\n",
    "print(\"\\nFinal output after training:\")\n",
    "print(output)"
   ]
  },
  {
   "cell_type": "code",
   "execution_count": null,
   "id": "36c240ce-bd04-4cbb-b83d-199822e4909e",
   "metadata": {},
   "outputs": [],
   "source": []
  }
 ],
 "metadata": {
  "kernelspec": {
   "display_name": "Python 3 (ipykernel)",
   "language": "python",
   "name": "python3"
  },
  "language_info": {
   "codemirror_mode": {
    "name": "ipython",
    "version": 3
   },
   "file_extension": ".py",
   "mimetype": "text/x-python",
   "name": "python",
   "nbconvert_exporter": "python",
   "pygments_lexer": "ipython3",
   "version": "3.11.9"
  }
 },
 "nbformat": 4,
 "nbformat_minor": 5
}
